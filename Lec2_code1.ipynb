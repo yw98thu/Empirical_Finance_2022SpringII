{
 "cells": [
  {
   "cell_type": "code",
   "execution_count": 1,
   "id": "3ea8b80e",
   "metadata": {},
   "outputs": [],
   "source": [
    "import pandas as pd\n",
    "import numpy as np"
   ]
  },
  {
   "cell_type": "markdown",
   "id": "bffe0360",
   "metadata": {},
   "source": [
    "## Download stock monthly return data (MSF) over the period of 1990- 2010 from WRDS and complete the following tasks:\n",
    "- Clean data: take absolute value of price; remove price<$5\n",
    "- Compute the size (in $1000) of the stocks (price*shrout)\n",
    "- Get the year and month for each date\n",
    "- For each stock, get its month t+1 stock return\n",
    "- Each month, rank all stocks into 10 portfolios by month t return\n",
    "- Get the equal weighted and market capital weighted average returns at month t+1 for each of the 10 portfolios\n",
    "- Get the average returns of the 10 portfolios over the entire time period.\n",
    "- Get the standard deviation of the returns of each portfolio"
   ]
  },
  {
   "cell_type": "code",
   "execution_count": 2,
   "id": "659a7d79",
   "metadata": {},
   "outputs": [],
   "source": [
    "data = pd.read_csv(\"monthly_2009to2020.csv\")"
   ]
  },
  {
   "cell_type": "code",
   "execution_count": 3,
   "id": "0eca6397",
   "metadata": {},
   "outputs": [],
   "source": [
    "#Clean data: take absolute value of price; remove price< 5−𝐶𝑜𝑚𝑝𝑢𝑡𝑒𝑡ℎ𝑒𝑠𝑖𝑧𝑒(𝑖𝑛 1000) of the stocks (price*shrout)\n",
    "def float_data(x):\n",
    "    try:\n",
    "        return float(x)\n",
    "    except:\n",
    "        return np.nan\n",
    "\n",
    "def clean_data(data):\n",
    "    df = data.copy()\n",
    "    df = df[df.EXCHCD.isin([1,2,3,4])]\n",
    "    # keeping only the exchange codes 1,2,3,4 for NYSE, NYSE, NASDAQ and ARCA respectively\n",
    "    df['PRC'] = df['PRC'].apply(lambda x:float_data(x))\n",
    "    df['SHROUT'] = df['SHROUT'].apply(lambda x:float_data(x))\n",
    "    df = df[df.PRC >= 5]\n",
    "    df['size'] = round(df.PRC * df.SHROUT / 1000)\n",
    "    return df\n",
    "\n",
    "def month_year(data):\n",
    "    df = data.copy()\n",
    "    df['yyyymm'] = df['date'].apply(lambda x:round(x/100))\n",
    "    return df\n",
    "\n",
    "def next_month_return(data):\n",
    "    df = data.copy()\n",
    "    df['RET'] = df['RET'].apply(lambda x:float_data(x))\n",
    "    df['RET_1'] = df.groupby('PERMNO')['RET'].shift(-1)\n",
    "    return df.dropna()\n",
    "\n",
    "def rank_port(data,var,number):\n",
    "    df = data.copy()\n",
    "    df['rank'] = df.groupby(\"yyyymm\")[var].apply(lambda x:pd.qcut(x,number,\n",
    "                                                                  labels = False,duplicates='drop'))\n",
    "    # pd.qcut: rank and put variables in equal size bins\n",
    "    return df\n",
    "\n",
    "#value weighted returns\n",
    "def vw_return(data,var):\n",
    "    result = data.groupby('yyyymm').apply(lambda x: pd.Series(\n",
    "                                                           np.average(x[[var]], \n",
    "                                                           weights=x[\"size\"], \n",
    "                                                           axis=0), [var]))\n",
    "    return result\n",
    "\n",
    "#Equal weighted returns\n",
    "def ew_return(data,var):\n",
    "    result = data.groupby('yyyymm')[[var]].mean()\n",
    "    return result\n",
    "\n",
    "def returns_table(data,var,number,ew=True):\n",
    "    result = pd.DataFrame()\n",
    "    if ew:\n",
    "        result['0'] = ew_return(data[data['rank'] == 0],var = var)\n",
    "        for n in range(1,number):\n",
    "            result['{}'.format(n)] = ew_return(data[data['rank'] == n],var = var)\n",
    "    else:\n",
    "        result['0'] = vw_return(data[data['rank'] == 0],var = var)\n",
    "        for n in range(1,number):\n",
    "            result['{}'.format(n)] = vw_return(data[data['rank'] == n],var = var)\n",
    "    return result"
   ]
  },
  {
   "cell_type": "code",
   "execution_count": 4,
   "id": "0ff5c74b",
   "metadata": {},
   "outputs": [],
   "source": [
    "x = rank_port(data = next_month_return(data = month_year(data = clean_data(data = data))),var='RET',number = 10)"
   ]
  },
  {
   "cell_type": "code",
   "execution_count": 5,
   "id": "e40eebec",
   "metadata": {},
   "outputs": [],
   "source": [
    "#ew\n",
    "df_ew = returns_table(data = x, var = 'RET_1',number = 10)\n",
    "#vw\n",
    "df_vw = returns_table(data = x, var = 'RET_1',number = 10,ew=False)"
   ]
  },
  {
   "cell_type": "code",
   "execution_count": 6,
   "id": "329faf69",
   "metadata": {},
   "outputs": [
    {
     "data": {
      "text/html": [
       "<div>\n",
       "<style scoped>\n",
       "    .dataframe tbody tr th:only-of-type {\n",
       "        vertical-align: middle;\n",
       "    }\n",
       "\n",
       "    .dataframe tbody tr th {\n",
       "        vertical-align: top;\n",
       "    }\n",
       "\n",
       "    .dataframe thead th {\n",
       "        text-align: right;\n",
       "    }\n",
       "</style>\n",
       "<table border=\"1\" class=\"dataframe\">\n",
       "  <thead>\n",
       "    <tr style=\"text-align: right;\">\n",
       "      <th></th>\n",
       "      <th>0</th>\n",
       "      <th>1</th>\n",
       "      <th>2</th>\n",
       "      <th>3</th>\n",
       "      <th>4</th>\n",
       "      <th>5</th>\n",
       "      <th>6</th>\n",
       "      <th>7</th>\n",
       "      <th>8</th>\n",
       "      <th>9</th>\n",
       "    </tr>\n",
       "  </thead>\n",
       "  <tbody>\n",
       "    <tr>\n",
       "      <th>mean</th>\n",
       "      <td>0.024098</td>\n",
       "      <td>0.014074</td>\n",
       "      <td>0.011852</td>\n",
       "      <td>0.010141</td>\n",
       "      <td>0.009799</td>\n",
       "      <td>0.009294</td>\n",
       "      <td>0.009511</td>\n",
       "      <td>0.009546</td>\n",
       "      <td>0.009884</td>\n",
       "      <td>0.015316</td>\n",
       "    </tr>\n",
       "    <tr>\n",
       "      <th>std</th>\n",
       "      <td>0.062032</td>\n",
       "      <td>0.052858</td>\n",
       "      <td>0.047702</td>\n",
       "      <td>0.043913</td>\n",
       "      <td>0.042516</td>\n",
       "      <td>0.041821</td>\n",
       "      <td>0.040997</td>\n",
       "      <td>0.040845</td>\n",
       "      <td>0.042351</td>\n",
       "      <td>0.047886</td>\n",
       "    </tr>\n",
       "  </tbody>\n",
       "</table>\n",
       "</div>"
      ],
      "text/plain": [
       "             0         1         2         3         4         5         6  \\\n",
       "mean  0.024098  0.014074  0.011852  0.010141  0.009799  0.009294  0.009511   \n",
       "std   0.062032  0.052858  0.047702  0.043913  0.042516  0.041821  0.040997   \n",
       "\n",
       "             7         8         9  \n",
       "mean  0.009546  0.009884  0.015316  \n",
       "std   0.040845  0.042351  0.047886  "
      ]
     },
     "metadata": {},
     "output_type": "display_data"
    }
   ],
   "source": [
    "display(df_ew.describe().iloc[1:3])"
   ]
  },
  {
   "cell_type": "code",
   "execution_count": 7,
   "id": "a6863d0c",
   "metadata": {},
   "outputs": [
    {
     "data": {
      "text/html": [
       "<div>\n",
       "<style scoped>\n",
       "    .dataframe tbody tr th:only-of-type {\n",
       "        vertical-align: middle;\n",
       "    }\n",
       "\n",
       "    .dataframe tbody tr th {\n",
       "        vertical-align: top;\n",
       "    }\n",
       "\n",
       "    .dataframe thead th {\n",
       "        text-align: right;\n",
       "    }\n",
       "</style>\n",
       "<table border=\"1\" class=\"dataframe\">\n",
       "  <thead>\n",
       "    <tr style=\"text-align: right;\">\n",
       "      <th></th>\n",
       "      <th>0</th>\n",
       "      <th>1</th>\n",
       "      <th>2</th>\n",
       "      <th>3</th>\n",
       "      <th>4</th>\n",
       "      <th>5</th>\n",
       "      <th>6</th>\n",
       "      <th>7</th>\n",
       "      <th>8</th>\n",
       "      <th>9</th>\n",
       "    </tr>\n",
       "  </thead>\n",
       "  <tbody>\n",
       "    <tr>\n",
       "      <th>mean</th>\n",
       "      <td>0.008845</td>\n",
       "      <td>0.009566</td>\n",
       "      <td>0.008661</td>\n",
       "      <td>0.009922</td>\n",
       "      <td>0.007634</td>\n",
       "      <td>0.009294</td>\n",
       "      <td>0.009379</td>\n",
       "      <td>0.007536</td>\n",
       "      <td>0.008075</td>\n",
       "      <td>0.008959</td>\n",
       "    </tr>\n",
       "    <tr>\n",
       "      <th>std</th>\n",
       "      <td>0.070089</td>\n",
       "      <td>0.057921</td>\n",
       "      <td>0.050077</td>\n",
       "      <td>0.046571</td>\n",
       "      <td>0.044106</td>\n",
       "      <td>0.044829</td>\n",
       "      <td>0.043067</td>\n",
       "      <td>0.043495</td>\n",
       "      <td>0.045831</td>\n",
       "      <td>0.052329</td>\n",
       "    </tr>\n",
       "  </tbody>\n",
       "</table>\n",
       "</div>"
      ],
      "text/plain": [
       "             0         1         2         3         4         5         6  \\\n",
       "mean  0.008845  0.009566  0.008661  0.009922  0.007634  0.009294  0.009379   \n",
       "std   0.070089  0.057921  0.050077  0.046571  0.044106  0.044829  0.043067   \n",
       "\n",
       "             7         8         9  \n",
       "mean  0.007536  0.008075  0.008959  \n",
       "std   0.043495  0.045831  0.052329  "
      ]
     },
     "metadata": {},
     "output_type": "display_data"
    }
   ],
   "source": [
    "display(df_vw.describe().iloc[1:3])"
   ]
  },
  {
   "cell_type": "code",
   "execution_count": null,
   "id": "e865b334",
   "metadata": {},
   "outputs": [],
   "source": []
  }
 ],
 "metadata": {
  "kernelspec": {
   "display_name": "Python 3 (ipykernel)",
   "language": "python",
   "name": "python3"
  },
  "language_info": {
   "codemirror_mode": {
    "name": "ipython",
    "version": 3
   },
   "file_extension": ".py",
   "mimetype": "text/x-python",
   "name": "python",
   "nbconvert_exporter": "python",
   "pygments_lexer": "ipython3",
   "version": "3.9.7"
  }
 },
 "nbformat": 4,
 "nbformat_minor": 5
}
